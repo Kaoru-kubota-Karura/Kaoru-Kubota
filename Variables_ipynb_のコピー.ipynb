{
  "nbformat": 4,
  "nbformat_minor": 0,
  "metadata": {
    "colab": {
      "provenance": []
    },
    "kernelspec": {
      "name": "python3",
      "display_name": "Python 3"
    },
    "language_info": {
      "name": "python"
    }
  },
  "cells": [
    {
      "cell_type": "markdown",
      "source": [
        "###Real-life analogy:\n",
        "\n",
        "\"Think of a locker in school or a gym. Each locker has a specific number, and inside, you can store your books, clothes, or other personal items. In programming, we have something similar called variables. Just like how you'd put your book in a locker and retrieve it later, in programming, we assign data to a variable and then use that variable to recall that data whenever we need it.\"\n",
        "\n",
        "### **Definition and Purpose of Variables in Programming**\n",
        "\n",
        "**Definition:**\n",
        "In computer programming, a variable is a storage location paired with an associated symbolic name, which contains some known or unknown quantity of information referred to as a value.\n",
        "\n",
        "**Purpose:**\n",
        "Variables serve as a fundamental concept in programming, allowing developers to:\n",
        "1. **Store Data:** Variables hold data that can be used and manipulated throughout a program.\n",
        "2. **Improve Readability:** By using descriptive variable names, code becomes more readable and understandable.\n",
        "3. **Facilitate Reuse:** Variables can be reused throughout different parts of a program, reducing redundancy.\n",
        "4. **Change Behavior:** By changing a variable's value, the behavior of a program can be altered without changing its structure.\n",
        "\n",
        "---\n",
        "\n",
        "### **Naming Conventions and Rules**\n",
        "\n",
        "**Naming Conventions:**\n",
        "1. **Descriptive Names:** Variables should be named in a way that describes their content or use (e.g., `user_age` instead of `ua`).\n",
        "2. **Camel Case:** Used mainly in languages like Java. E.g., `userName`.\n",
        "3. **Snake Case:** Common in Python. E.g., `user_name`.\n",
        "4. **Pascal Case:** Used for class names in many languages. E.g., `UserName`.\n",
        "\n",
        "**Rules:**\n",
        "1. Variable names must start with a letter (a-z, A-Z) or an underscore (_).\n",
        "2. Subsequent characters can be letters, numbers, or underscores.\n",
        "3. Variable names cannot be reserved words in the language (e.g., `if`, `else` in Python).\n",
        "4. Variable names should not contain spaces.\n",
        "5. Variable names are case-sensitive (`user` and `User` are different variables).\n",
        "\n",
        "---\n",
        "\n",
        "### **Assigning Values to Variables Using the Assignment Operator (=)**\n",
        "\n",
        "In most programming languages, the equals sign (`=`) is used as the assignment operator. It assigns the value on its right to the variable on its left.\n",
        "\n",
        "**Example:**\n",
        "```python\n",
        "age = 25\n",
        "name = \"John\"\n",
        "is_student = True\n",
        "```\n",
        "\n",
        "Here, the variable `age` is assigned a value of 25, the variable `name` is given the string \"John\", and the variable `is_student` is assigned a Boolean value of `True`.\n",
        "\n",
        "---\n",
        "\n",
        "### **Practice: Assign Various Values to Variables and Display Them**\n",
        "\n",
        "**Task:** Create and assign values to three different variables: an integer, a string, and a boolean. Then, display them.\n",
        "\n",
        "**Solution:**\n",
        "```python\n",
        "# Assigning values to variables\n",
        "my_age = 30\n",
        "my_name = \"Alice\"\n",
        "likes_coffee = True\n",
        "\n",
        "# Displaying the values\n",
        "print(\"My age is:\", my_age)\n",
        "print(\"My name is:\", my_name)\n",
        "print(\"Do I like coffee?\", likes_coffee)\n",
        "```\n",
        "\n",
        "When this program is run, it will display:\n",
        "```\n",
        "My age is: 30\n",
        "My name is: Alice\n",
        "Do I like coffee? True\n",
        "```\n",
        "\n",
        "---\n"
      ],
      "metadata": {
        "id": "JiPTmgn93WM0"
      }
    },
    {
      "cell_type": "markdown",
      "source": [
        "# Exercise 1:\n",
        "\n",
        "Declare variables for today's temperature, humidity percentage, and chance of rain.\n",
        "\n",
        "Display a weather report: \"Today's temperature is [temperature]°C with a humidity of [humidity]%. Chance of rain: [chance of rain]%.\""
      ],
      "metadata": {
        "id": "pBdwEexP57_C"
      }
    },
    {
      "cell_type": "code",
      "source": [
        "temp= 19\n",
        "humi= 76\n",
        "chance_of_rain= 5\n",
        "\n",
        "print(\"Today's temperature is\", temp, \"℃ with a humidity of\", humi, \"%. Chance of rain:\", chance_of_rain, \"%\")"
      ],
      "metadata": {
        "id": "lSnQXtFM596U",
        "colab": {
          "base_uri": "https://localhost:8080/"
        },
        "outputId": "4a05aea9-9c4f-462a-e546-8a8d4fc06d2e"
      },
      "execution_count": 2,
      "outputs": [
        {
          "output_type": "stream",
          "name": "stdout",
          "text": [
            "Today's temperature is 19 ℃ with a humidity of 76 %. Chance of rain: 5 %\n"
          ]
        }
      ]
    },
    {
      "cell_type": "markdown",
      "source": [
        "# Exercise 2:\n",
        "\n",
        "Grocery Receipt:\n",
        "\n",
        "Pick three items you would buy from a grocery store.\n",
        "Declare variables for each item's name and price.\n",
        "\n",
        "Calculate and display the total bill."
      ],
      "metadata": {
        "id": "j3nER9kQ6QAL"
      }
    },
    {
      "cell_type": "code",
      "source": [
        "def mainmenu():\n",
        "     #メインメニュー表示\n",
        "     print(\"1.hamburger：$3　,\\n\"\"2.cheese hamburger：$3.5　,\\n\"\"3.fish hamburger：$3.25　,\")\n",
        "def drinkmenu():\n",
        "     #ドリンクメニュー表示\n",
        "     print(\"1.cola：$1　,\\n\"\"2.orange juice：$0.85　,\\n\"\"3.Green tea：$0.9\")\n",
        "def mainorder(a,b,c):\n",
        "     #メインオーダーの注文取り\n",
        "     n1=0;n2=0;n3=0;ko1=0;ko2=0;ko3=0\n",
        "     mono=int(input(\"please type the number of you want＞＞＞\"))\n",
        "     if mono==1:\n",
        "           ko1=kosuu()\n",
        "           n1=a*ko1\n",
        "     elif mono==2:\n",
        "           ko2=kosuu()\n",
        "           n2=b*ko2\n",
        "     elif mono==3:\n",
        "           ko3=kosuu()\n",
        "           n3=c*ko3\n",
        "     else:\n",
        "           print(\"This number is not exist\")\n",
        "     return n1,n2,n3,ko1,ko2,ko3\n",
        "def drinkorder(a,b,c):\n",
        "     #ドリンクオーダーの注文取り\n",
        "     n1=0;n2=0;n3=0;ko1=0;ko2=0;ko3=0\n",
        "     mono=int(input(\"please type the number of you want＞＞＞\"))\n",
        "     if mono==1:\n",
        "           ko1=kosuu()\n",
        "           n1=a*ko1\n",
        "     elif mono==2:\n",
        "           ko2=kosuu()\n",
        "           n2=b*ko2\n",
        "     elif mono==3:\n",
        "           ko3=kosuu()\n",
        "           n3=c*ko3\n",
        "     else:\n",
        "           print(\"This number is not exist\")\n",
        "     return n1,n2,n3,ko1,ko2,ko3\n",
        "def kosuu():\n",
        "     #個数確認（メインとドリンク共通）\n",
        "     kosuu=int(input(\"Type how many do you want＞＞＞\"))\n",
        "     return kosuu\n",
        "def exit():\n",
        "     #ご注文は以上ですかチェック\n",
        "     ex=int(input(\"Do you prefer someting else\\n\"\n",
        "                  \"yes/1　no/2＞＞＞\"))\n",
        "     return ex\n",
        "def drinkneed():\n",
        "     #ドリンクもいるかチェック(１と２以外の数字で再問)\n",
        "     drinkneed = int(input(\"Do you prefer some drink?\\n\"\n",
        "                           \"yes/１　no/２＞＞＞\"))\n",
        "     return drinkneed\n",
        "#=====================【初期データ】========================================\n",
        "#追加注文確認用フラグ\n",
        "mexit=0;dexit=0\n",
        "#商品の単価\n",
        "m1p=3;m2p=3.5;m3p=3.25;d1p=1;d2p=0.85;d3p=0.9\n",
        "#各商品の会計値段\n",
        "m1n=0;m2n=0;m3n=0;d1n=0;d2n=0;d3n=0\n",
        "#各商品の注文個数\n",
        "m1ko=0;m2ko=0;m3ko=0;d1ko=0;d2ko=0;d3ko=0\n",
        "\n",
        "#=====================【以下本体】=================================\n",
        "#挨拶\n",
        "print(\"Welcome to Grecery(?) store\\n\"\n",
        "     \"Please look at the menu and select a number\\n\")\n",
        "#メインメニューの注文\n",
        "while mexit<2:\n",
        "     mainmenu()\n",
        "     m1u,m2u,m3u,mk1u,mk2u,mk3u=mainorder(m1p,m2p,m3p)\n",
        "     m1n=m1n+m1u;m2n=m2n+m2u;m3n=m3n+m3u\n",
        "     m1ko=m1ko+mk1u;m2ko=m2ko+mk2u;m3ko=m3ko+mk3u\n",
        "     mexit=exit()\n",
        "#ドリンクメニューの注文\n",
        "print(\"Your main food order confirmed\")\n",
        "dneed=drinkneed()\n",
        "while dneed < 1 or dneed > 2:\n",
        "     print(\"Please try again\")\n",
        "     dneed = drinkneed()\n",
        "if dneed==1:\n",
        "     print(\"Will going to show the drink menu.\\n\")\n",
        "     while dexit<2:\n",
        "           drinkmenu()\n",
        "           d1u,d2u,d3u,d1ku,d2ku,d3ku=drinkorder(d1p,d2p,d3p)\n",
        "           d1n=d1n+d1u;d2n=d2n+d2u;d3n=d3n+d3u\n",
        "           d1ko=d1ko+d1ku;d2ko=d2ko+d2ku;d3ko=d3ko+d3ku\n",
        "           dexit=exit()\n",
        "else:\n",
        "     print(\"Your order has been received.\")\n",
        "print(\"Your order has been received.\\n\")\n",
        "#会計へ\n",
        "if m1ko>0:\n",
        "     print(\"hamburger：\",m1ko)\n",
        "if m2ko>0:\n",
        "     print(\"cheese hamburger：\",m2ko)\n",
        "if m3ko>0:\n",
        "     print(\"fish hamburger：\",m3ko)\n",
        "if d1ko>0:\n",
        "     print(\"cola:\",d1ko)\n",
        "if d2ko>0:\n",
        "     print(\"Orange juice:\",d2ko)\n",
        "if d3ko>0:\n",
        "     print(\"Green tea\",d3ko)\n",
        "print(\"\\n\")\n",
        "goukei=m1n+m2n+m3n+d1n+d2n+d3n\n",
        "print(\"The price is $\",goukei)\n",
        "input(\"Press any key to finish\")"
      ],
      "metadata": {
        "id": "L8uRoBiP6neE",
        "colab": {
          "base_uri": "https://localhost:8080/"
        },
        "outputId": "afecd0cf-1802-4a9f-8d23-d9a88e6ff83f"
      },
      "execution_count": null,
      "outputs": [
        {
          "output_type": "stream",
          "name": "stdout",
          "text": [
            "Welcome to Grecery(?) store\n",
            "Please look at the menu and select a number\n",
            "\n",
            "1.hamburger：$3　,\n",
            "2.cheese hamburger：$3.5　,\n",
            "3.fish hamburger：$3.25　,\n"
          ]
        }
      ]
    }
  ]
}